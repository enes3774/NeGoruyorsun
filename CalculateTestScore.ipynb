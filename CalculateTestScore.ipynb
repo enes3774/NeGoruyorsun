{
 "cells": [
  {
   "cell_type": "code",
   "execution_count": 1,
   "id": "07f6970f",
   "metadata": {
    "_cell_guid": "b1076dfc-b9ad-4769-8c92-a6c4dae69d19",
    "_uuid": "8f2839f25d086af736a60e9eeb907d3b93b6e0e5",
    "execution": {
     "iopub.execute_input": "2022-08-18T15:24:40.454993Z",
     "iopub.status.busy": "2022-08-18T15:24:40.454213Z",
     "iopub.status.idle": "2022-08-18T15:25:14.464276Z",
     "shell.execute_reply": "2022-08-18T15:25:14.463064Z"
    },
    "papermill": {
     "duration": 34.018757,
     "end_time": "2022-08-18T15:25:14.467260",
     "exception": false,
     "start_time": "2022-08-18T15:24:40.448503",
     "status": "completed"
    },
    "tags": []
   },
   "outputs": [
    {
     "name": "stdout",
     "output_type": "stream",
     "text": [
      "Collecting gdown\r\n",
      "  Downloading gdown-4.5.1.tar.gz (14 kB)\r\n",
      "  Installing build dependencies ... \u001b[?25l-\b \b\\\b \b|\b \b/\b \b-\b \b\\\b \bdone\r\n",
      "\u001b[?25h  Getting requirements to build wheel ... \u001b[?25l-\b \bdone\r\n",
      "\u001b[?25h  Preparing metadata (pyproject.toml) ... \u001b[?25l-\b \bdone\r\n",
      "\u001b[?25hRequirement already satisfied: six in /opt/conda/lib/python3.7/site-packages (from gdown) (1.16.0)\r\n",
      "Requirement already satisfied: requests[socks] in /opt/conda/lib/python3.7/site-packages (from gdown) (2.28.1)\r\n",
      "Requirement already satisfied: tqdm in /opt/conda/lib/python3.7/site-packages (from gdown) (4.64.0)\r\n",
      "Requirement already satisfied: filelock in /opt/conda/lib/python3.7/site-packages (from gdown) (3.7.1)\r\n",
      "Requirement already satisfied: beautifulsoup4 in /opt/conda/lib/python3.7/site-packages (from gdown) (4.11.1)\r\n",
      "Requirement already satisfied: soupsieve>1.2 in /opt/conda/lib/python3.7/site-packages (from beautifulsoup4->gdown) (2.3.1)\r\n",
      "Requirement already satisfied: idna<4,>=2.5 in /opt/conda/lib/python3.7/site-packages (from requests[socks]->gdown) (3.3)\r\n",
      "Requirement already satisfied: certifi>=2017.4.17 in /opt/conda/lib/python3.7/site-packages (from requests[socks]->gdown) (2022.6.15)\r\n",
      "Requirement already satisfied: charset-normalizer<3,>=2 in /opt/conda/lib/python3.7/site-packages (from requests[socks]->gdown) (2.1.0)\r\n",
      "Requirement already satisfied: urllib3<1.27,>=1.21.1 in /opt/conda/lib/python3.7/site-packages (from requests[socks]->gdown) (1.26.9)\r\n",
      "Requirement already satisfied: PySocks!=1.5.7,>=1.5.6 in /opt/conda/lib/python3.7/site-packages (from requests[socks]->gdown) (1.7.1)\r\n",
      "Building wheels for collected packages: gdown\r\n",
      "  Building wheel for gdown (pyproject.toml) ... \u001b[?25l-\b \bdone\r\n",
      "\u001b[?25h  Created wheel for gdown: filename=gdown-4.5.1-py3-none-any.whl size=14933 sha256=b28fa4d3733b32c70ccce1c099e5ff8fd273fa9e21a73db2447d83d625c38149\r\n",
      "  Stored in directory: /root/.cache/pip/wheels/3d/ec/b0/a96d1d126183f98570a785e6bf8789fca559853a9260e928e1\r\n",
      "Successfully built gdown\r\n",
      "Installing collected packages: gdown\r\n",
      "Successfully installed gdown-4.5.1\r\n",
      "\u001b[33mWARNING: Running pip as the 'root' user can result in broken permissions and conflicting behaviour with the system package manager. It is recommended to use a virtual environment instead: https://pip.pypa.io/warnings/venv\u001b[0m\u001b[33m\r\n",
      "\u001b[0mDownloading...\r\n",
      "From: https://drive.google.com/uc?id=1FG1yBlH46AcP5Y0uavgmt4CGfgFg3uTZ\r\n",
      "To: /kaggle/working/vectors.txt.zip\r\n",
      "100%|█████████████████████████████████████████| 293M/293M [00:02<00:00, 102MB/s]\r\n"
     ]
    }
   ],
   "source": [
    "!pip install gdown\n",
    "!gdown 1FG1yBlH46AcP5Y0uavgmt4CGfgFg3uTZ"
   ]
  },
  {
   "cell_type": "code",
   "execution_count": 2,
   "id": "70d8a2ba",
   "metadata": {
    "execution": {
     "iopub.execute_input": "2022-08-18T15:25:14.480042Z",
     "iopub.status.busy": "2022-08-18T15:25:14.479642Z",
     "iopub.status.idle": "2022-08-18T15:25:23.372656Z",
     "shell.execute_reply": "2022-08-18T15:25:23.371537Z"
    },
    "papermill": {
     "duration": 8.90239,
     "end_time": "2022-08-18T15:25:23.375070",
     "exception": false,
     "start_time": "2022-08-18T15:25:14.472680",
     "status": "completed"
    },
    "tags": []
   },
   "outputs": [
    {
     "name": "stdout",
     "output_type": "stream",
     "text": [
      "Archive:  /kaggle/working/vectors.txt.zip\r\n",
      "  inflating: vectors.txt             \r\n",
      "  inflating: __MACOSX/._vectors.txt  \r\n"
     ]
    }
   ],
   "source": [
    "!unzip \"/kaggle/working/vectors.txt.zip\""
   ]
  },
  {
   "cell_type": "code",
   "execution_count": 3,
   "id": "8fce51ca",
   "metadata": {
    "execution": {
     "iopub.execute_input": "2022-08-18T15:25:23.387299Z",
     "iopub.status.busy": "2022-08-18T15:25:23.386938Z",
     "iopub.status.idle": "2022-08-18T15:27:37.044490Z",
     "shell.execute_reply": "2022-08-18T15:27:37.042671Z"
    },
    "papermill": {
     "duration": 133.669518,
     "end_time": "2022-08-18T15:27:37.049763",
     "exception": false,
     "start_time": "2022-08-18T15:25:23.380245",
     "status": "completed"
    },
    "tags": []
   },
   "outputs": [
    {
     "name": "stderr",
     "output_type": "stream",
     "text": [
      "/opt/conda/lib/python3.7/site-packages/ipykernel_launcher.py:6: DeprecationWarning: Call to deprecated `glove2word2vec` (KeyedVectors.load_word2vec_format(.., binary=False, no_header=True) loads GLoVE text vectors.).\n",
      "  \n"
     ]
    }
   ],
   "source": [
    "from gensim.models import KeyedVectors\n",
    "from gensim.scripts.glove2word2vec import glove2word2vec \n",
    "glove_file = 'vectors.txt'\n",
    "word2vec_file = \"word2Vec.txt\"\n",
    "\n",
    "glove2word2vec(glove_file, word2vec_file)\n",
    "model = KeyedVectors.load_word2vec_format(word2vec_file)"
   ]
  },
  {
   "cell_type": "code",
   "execution_count": 4,
   "id": "66606fce",
   "metadata": {
    "execution": {
     "iopub.execute_input": "2022-08-18T15:27:37.065732Z",
     "iopub.status.busy": "2022-08-18T15:27:37.065123Z",
     "iopub.status.idle": "2022-08-18T15:27:51.464634Z",
     "shell.execute_reply": "2022-08-18T15:27:51.463517Z"
    },
    "papermill": {
     "duration": 14.409868,
     "end_time": "2022-08-18T15:27:51.467447",
     "exception": false,
     "start_time": "2022-08-18T15:27:37.057579",
     "status": "completed"
    },
    "tags": []
   },
   "outputs": [
    {
     "name": "stdout",
     "output_type": "stream",
     "text": [
      "Collecting simplemma\r\n",
      "  Downloading simplemma-0.8.0-py3-none-any.whl (73.4 MB)\r\n",
      "\u001b[2K     \u001b[90m━━━━━━━━━━━━━━━━━━━━━━━━━━━━━━━━━━━━━━━━\u001b[0m \u001b[32m73.4/73.4 MB\u001b[0m \u001b[31m12.8 MB/s\u001b[0m eta \u001b[36m0:00:00\u001b[0m\r\n",
      "\u001b[?25hInstalling collected packages: simplemma\r\n",
      "Successfully installed simplemma-0.8.0\r\n",
      "\u001b[33mWARNING: Running pip as the 'root' user can result in broken permissions and conflicting behaviour with the system package manager. It is recommended to use a virtual environment instead: https://pip.pypa.io/warnings/venv\u001b[0m\u001b[33m\r\n",
      "\u001b[0m"
     ]
    }
   ],
   "source": [
    "!pip install simplemma"
   ]
  },
  {
   "cell_type": "code",
   "execution_count": 5,
   "id": "00af71fa",
   "metadata": {
    "execution": {
     "iopub.execute_input": "2022-08-18T15:27:51.486320Z",
     "iopub.status.busy": "2022-08-18T15:27:51.485900Z",
     "iopub.status.idle": "2022-08-18T15:27:52.316963Z",
     "shell.execute_reply": "2022-08-18T15:27:52.315726Z"
    },
    "papermill": {
     "duration": 0.843766,
     "end_time": "2022-08-18T15:27:52.319567",
     "exception": false,
     "start_time": "2022-08-18T15:27:51.475801",
     "status": "completed"
    },
    "tags": []
   },
   "outputs": [],
   "source": [
    "import nltk\n",
    "from nltk.tokenize import word_tokenize\n",
    "tokenizer = nltk.RegexpTokenizer(r\"\\w+\")\n",
    "\n",
    "\n"
   ]
  },
  {
   "cell_type": "code",
   "execution_count": 6,
   "id": "66804d21",
   "metadata": {
    "execution": {
     "iopub.execute_input": "2022-08-18T15:27:52.337334Z",
     "iopub.status.busy": "2022-08-18T15:27:52.336915Z",
     "iopub.status.idle": "2022-08-18T15:27:52.352152Z",
     "shell.execute_reply": "2022-08-18T15:27:52.350795Z"
    },
    "papermill": {
     "duration": 0.026842,
     "end_time": "2022-08-18T15:27:52.354596",
     "exception": false,
     "start_time": "2022-08-18T15:27:52.327754",
     "status": "completed"
    },
    "tags": []
   },
   "outputs": [],
   "source": [
    "from scipy.stats import multivariate_normal\n",
    "import simplemma\n",
    "\n",
    "\n",
    "tehlike_kelimeleri=[\"köpek\",\"araba\",\"aslan\",\"bisiklet\",\"deniz\"]\n",
    "def Calculate_Risk_Score(sentence):\n",
    "    new_words = tokenizer.tokenize(sentence)\n",
    "    lamm_words=[]\n",
    "    \n",
    "    for word in new_words:\n",
    "        lamm_words.append(simplemma.lemmatize(word, lang='tr'))\n",
    "    skor=[]\n",
    "    num_skor=0\n",
    "    for word in lamm_words:\n",
    "        for danger_word in tehlike_kelimeleri:\n",
    "        \n",
    "            try:\n",
    "                word_score=1-model.distance(danger_word,word.lower())\n",
    "                if word_score>0.3:\n",
    "                    num_skor+=word_score\n",
    "            \n",
    "                \n",
    "                skor.append(word_score)\n",
    "            except:\n",
    "                print(word+\"listede yok \")\n",
    "    return num_skor"
   ]
  },
  {
   "cell_type": "code",
   "execution_count": 7,
   "id": "fcd1b0ed",
   "metadata": {
    "execution": {
     "iopub.execute_input": "2022-08-18T15:27:52.373018Z",
     "iopub.status.busy": "2022-08-18T15:27:52.371920Z",
     "iopub.status.idle": "2022-08-18T15:27:53.974362Z",
     "shell.execute_reply": "2022-08-18T15:27:53.972875Z"
    },
    "papermill": {
     "duration": 1.613915,
     "end_time": "2022-08-18T15:27:53.976579",
     "exception": false,
     "start_time": "2022-08-18T15:27:52.362664",
     "status": "completed"
    },
    "tags": []
   },
   "outputs": [
    {
     "name": "stdout",
     "output_type": "stream",
     "text": [
      "2.689111053943634\n",
      "0.6279016137123108\n"
     ]
    }
   ],
   "source": [
    "print(Calculate_Risk_Score(\"Çitlerle çevrili bir bahçede yürümekte olan bir köpek.\"))\n",
    "print(Calculate_Risk_Score(\"Kaldırımda yürüyen bir grup insan.\"))"
   ]
  }
 ],
 "metadata": {
  "kernelspec": {
   "display_name": "Python 3",
   "language": "python",
   "name": "python3"
  },
  "language_info": {
   "codemirror_mode": {
    "name": "ipython",
    "version": 3
   },
   "file_extension": ".py",
   "mimetype": "text/x-python",
   "name": "python",
   "nbconvert_exporter": "python",
   "pygments_lexer": "ipython3",
   "version": "3.7.12"
  },
  "papermill": {
   "default_parameters": {},
   "duration": 203.990183,
   "end_time": "2022-08-18T15:27:55.009841",
   "environment_variables": {},
   "exception": null,
   "input_path": "__notebook__.ipynb",
   "output_path": "__notebook__.ipynb",
   "parameters": {},
   "start_time": "2022-08-18T15:24:31.019658",
   "version": "2.3.4"
  }
 },
 "nbformat": 4,
 "nbformat_minor": 5
}
